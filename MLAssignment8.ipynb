{
 "cells": [
  {
   "cell_type": "markdown",
   "metadata": {},
   "source": [
    "### Your name:\n",
    "\n",
    "<pre> Aaron Fritz</pre>\n",
    "\n",
    "### Collaborators:\n",
    "\n",
    "<pre> Enter the name of the people you worked with if any</pre>\n"
   ]
  },
  {
   "cell_type": "code",
   "execution_count": 83,
   "metadata": {},
   "outputs": [],
   "source": [
    "import numpy as np\n",
    "import pandas as pd\n",
    "import tensorflow as tf\n",
    "# to make this notebook's output stable across runs\n",
    "np.random.seed(123)\n",
    "\n",
    "# To plot pretty figures\n",
    "%matplotlib inline\n",
    "import matplotlib\n",
    "import matplotlib.pyplot as plt\n",
    "plt.rcParams['axes.labelsize'] = 14\n",
    "plt.rcParams['xtick.labelsize'] = 12\n",
    "plt.rcParams['ytick.labelsize'] = 12\n"
   ]
  },
  {
   "cell_type": "markdown",
   "metadata": {},
   "source": [
    "## TensorFlow"
   ]
  },
  {
   "cell_type": "markdown",
   "metadata": {},
   "source": [
    "Implement Logistic Regression using TensorFlow. Train it and evaluate it on the moons dataset (introduced in Chapter 5). \n",
    "\n",
    "use this as reference:\n",
    "https://www.geeksforgeeks.org/ml-logistic-regression-using-tensorflow/\n",
    "\n"
   ]
  },
  {
   "cell_type": "code",
   "execution_count": 84,
   "metadata": {},
   "outputs": [],
   "source": [
    "from sklearn.datasets import make_moons\n",
    "\n",
    "m = 1000\n",
    "X_moons, y_moons = make_moons(m, noise=0.1, random_state=42)\n",
    "X_moons = X_moons + [2.5 , 1]\n"
   ]
  },
  {
   "cell_type": "code",
   "execution_count": 85,
   "metadata": {},
   "outputs": [
    {
     "data": {
      "image/png": "[encoded data removed]",
      "text/plain": [
       "<Figure size 432x288 with 1 Axes>"
      ]
     },
     "metadata": {
      "needs_background": "light"
     },
     "output_type": "display_data"
    }
   ],
   "source": [
    "plt.plot(X_moons[y_moons == 1, 0], X_moons[y_moons == 1, 1], 'go', label=\"Positive\")\n",
    "plt.plot(X_moons[y_moons == 0, 0], X_moons[y_moons == 0, 1], 'r^', label=\"Negative\")\n",
    "plt.legend()\n",
    "plt.show()"
   ]
  },
  {
   "cell_type": "code",
   "execution_count": 86,
   "metadata": {},
   "outputs": [
    {
     "name": "stdout",
     "output_type": "stream",
     "text": [
      "Shape of Feature Matrix: (1000, 2)\n",
      "Shape Label Vector: (1000, 1)\n"
     ]
    }
   ],
   "source": [
    "# Feature Matrix \n",
    "x_orig = X_moons.reshape(-1,2) \n",
    "  \n",
    "# Data labels \n",
    "y_orig = y_moons.reshape(-1,1)\n",
    "\n",
    "\n",
    "  \n",
    "print(\"Shape of Feature Matrix:\", x_orig.shape) \n",
    "print(\"Shape Label Vector:\", y_orig.shape) "
   ]
  },
  {
   "cell_type": "code",
   "execution_count": 87,
   "metadata": {},
   "outputs": [
    {
     "name": "stdout",
     "output_type": "stream",
     "text": [
      "m = 1000\n",
      "n = 7\n",
      "Learning Rate = 0.0035\n",
      "Number of Epochs = 500\n"
     ]
    },
    {
     "name": "stderr",
     "output_type": "stream",
     "text": [
      "C:\\Users\\afritz4296\\AppData\\Local\\Continuum\\anaconda3\\lib\\site-packages\\sklearn\\preprocessing\\_encoders.py:371: FutureWarning: The handling of integer data will change in version 0.22. Currently, the categories are determined based on the range [0, max(values)], while in the future they will be determined based on the unique values.\n",
      "If you want the future behaviour and silence this warning, you can specify \"categories='auto'\".\n",
      "In case you used a LabelEncoder before this OneHotEncoder to convert the categories to integers, then you can now use the OneHotEncoder directly.\n",
      "  warnings.warn(msg, FutureWarning)\n",
      "C:\\Users\\afritz4296\\AppData\\Local\\Continuum\\anaconda3\\lib\\site-packages\\sklearn\\preprocessing\\_encoders.py:371: FutureWarning: The handling of integer data will change in version 0.22. Currently, the categories are determined based on the range [0, max(values)], while in the future they will be determined based on the unique values.\n",
      "If you want the future behaviour and silence this warning, you can specify \"categories='auto'\".\n",
      "In case you used a LabelEncoder before this OneHotEncoder to convert the categories to integers, then you can now use the OneHotEncoder directly.\n",
      "  warnings.warn(msg, FutureWarning)\n"
     ]
    }
   ],
   "source": [
    "from sklearn.preprocessing import OneHotEncoder \n",
    "\n",
    "# Creating the One Hot Encoder \n",
    "oneHot = OneHotEncoder() \n",
    "  \n",
    "# Encoding x_orig \n",
    "oneHot.fit(x_orig) \n",
    "x = oneHot.transform(x_orig).toarray() \n",
    "  \n",
    "# Encoding y_orig \n",
    "oneHot.fit(y_orig) \n",
    "y = oneHot.transform(y_orig).toarray() \n",
    "  \n",
    "alpha, epochs = 0.0035, 500\n",
    "m, n = x.shape \n",
    "print('m =', m) \n",
    "print('n =', n) \n",
    "print('Learning Rate =', alpha) \n",
    "print('Number of Epochs =', epochs)"
   ]
  },
  {
   "cell_type": "code",
   "execution_count": 88,
   "metadata": {},
   "outputs": [],
   "source": [
    "# There are n columns in the feature matrix \n",
    "# after One Hot Encoding. \n",
    "X = tf.placeholder(tf.float32, [None, n]) \n",
    "  \n",
    "# Since this is a binary classification problem, \n",
    "# Y can take only 2 values. \n",
    "Y = tf.placeholder(tf.float32, [None, 2]) \n",
    "  \n",
    "# Trainable Variable Weights \n",
    "W = tf.Variable(tf.zeros([n, 2])) \n",
    "  \n",
    "# Trainable Variable Bias \n",
    "b = tf.Variable(tf.zeros([2])) "
   ]
  },
  {
   "cell_type": "code",
   "execution_count": null,
   "metadata": {},
   "outputs": [],
   "source": [
    "# Hypothesis \n",
    "Y_hat = tf.nn.sigmoid(tf.add(tf.matmul(X, W), b)) \n",
    "  \n",
    "# Sigmoid Cross Entropy Cost Function \n",
    "cost = tf.nn.sigmoid_cross_entropy_with_logits( \n",
    "                    logits = Y_hat, labels = Y) \n",
    "  \n",
    "# Gradient Descent Optimizer \n",
    "optimizer = tf.train.GradientDescentOptimizer( \n",
    "         learning_rate = alpha).minimize(cost) \n",
    "  \n",
    "# Global Variables Initializer \n",
    "init = tf.global_variables_initializer() "
   ]
  },
  {
   "cell_type": "code",
   "execution_count": null,
   "metadata": {},
   "outputs": [],
   "source": [
    "# Starting the Tensorflow Session \n",
    "with tf.Session() as sess: \n",
    "      \n",
    "    # Initializing the Variables \n",
    "    sess.run(init) \n",
    "      \n",
    "    # Lists for storing the changing Cost and Accuracy in every Epoch \n",
    "    cost_history, accuracy_history = [], [] \n",
    "      \n",
    "    # Iterating through all the epochs \n",
    "    for epoch in range(epochs): \n",
    "        cost_per_epoch = 0\n",
    "          \n",
    "        # Running the Optimizer \n",
    "        sess.run(optimizer, feed_dict = {X : x, Y : y}) \n",
    "          \n",
    "        # Calculating cost on current Epoch \n",
    "        c = sess.run(cost, feed_dict = {X : x, Y : y}) \n",
    "          \n",
    "        # Calculating accuracy on current Epoch \n",
    "        correct_prediction = tf.equal(tf.argmax(Y_hat, 1), \n",
    "                                          tf.argmax(Y, 1)) \n",
    "        accuracy = tf.reduce_mean(tf.cast(correct_prediction, \n",
    "                                                 tf.float32)) \n",
    "          \n",
    "        # Storing Cost and Accuracy to the history \n",
    "        cost_history.append(sum(sum(c))) \n",
    "        accuracy_history.append(accuracy.eval({X : x, Y : y}) * 100) \n",
    "          \n",
    "        # Displaying result on current Epoch \n",
    "        if epoch % 100 == 0 and epoch != 0: \n",
    "            print(\"Epoch \" + str(epoch) + \" Cost: \" + str(cost_history[-1])) \n",
    "      \n",
    "    Weight = sess.run(W) # Optimized Weight \n",
    "    Bias = sess.run(b)   # Optimized Bias \n",
    "      \n",
    "    # Final Accuracy \n",
    "    correct_prediction = tf.equal(tf.argmax(Y_hat, 1), \n",
    "                                      tf.argmax(Y, 1)) \n",
    "    accuracy = tf.reduce_mean(tf.cast(correct_prediction,  \n",
    "                                             tf.float32)) \n",
    "    print(\"\\nAccuracy:\", accuracy_history[-1], \"%\") "
   ]
  },
  {
   "cell_type": "code",
   "execution_count": null,
   "metadata": {},
   "outputs": [],
   "source": [
    "#plot the change of cost over the epochs.\n",
    "plt.plot(list(range(epochs)), cost_history) \n",
    "plt.xlabel('Epochs') \n",
    "plt.ylabel('Cost') \n",
    "plt.title('Decrease in Cost with Epochs') \n",
    "  \n",
    "plt.show() "
   ]
  },
  {
   "cell_type": "code",
   "execution_count": null,
   "metadata": {},
   "outputs": [],
   "source": [
    "#Plot the change of accuracy over the epochs\n",
    "plt.plot(list(range(epochs)), accuracy_history) \n",
    "plt.xlabel('Epochs') \n",
    "plt.ylabel('Accuracy') \n",
    "plt.title('Increase in Accuracy with Epochs') \n",
    "  \n",
    "plt.show() "
   ]
  },
  {
   "cell_type": "code",
   "execution_count": null,
   "metadata": {},
   "outputs": [],
   "source": [
    "# Calculating the Decision Boundary \n",
    "decision_boundary_x = np.array([np.min(x_orig[:, 0]), np.max(x_orig[:, 0])])\n",
    "  \n",
    "decision_boundary_y = (- 1.0 / Weight[0]) * (decision_boundary_x * Weight + Bias) \n",
    "  \n",
    "decision_boundary_y = [sum(decision_boundary_y[:, 0]), sum(decision_boundary_y[:, 1])] \n",
    "  \n",
    "# Positive Data Points \n",
    "x_pos = np.array([x_orig[i] for i in range(len(x_orig)) if y_orig[i] == 1]) \n",
    "  \n",
    "# Negative Data Points \n",
    "x_neg = np.array([x_orig[i] for i in range(len(x_orig)) if y_orig[i] == 0]) \n",
    "\n",
    "# Plotting the Positive Data Points \n",
    "plt.scatter(x_pos[:, 0], x_pos[:, 1], \n",
    "  color = 'blue', label = 'Positive') \n",
    "  \n",
    "# Plotting the Negative Data Points \n",
    "plt.scatter(x_neg[:, 0], x_neg[:, 1], \n",
    "   color = 'red', label = 'Negative') \n",
    "  \n",
    "# Plotting the Decision Boundary \n",
    "plt.plot(decision_boundary_x, decision_boundary_y) \n",
    "plt.xlabel('Feature 1') \n",
    "plt.ylabel('Feature 2') \n",
    "plt.title('Plot of Decision Boundary') \n",
    "plt.ylim(-15, 10)\n",
    "plt.xlim(-15, 10)\n",
    "plt.legend() \n",
    "  \n",
    "plt.show() "
   ]
  },
  {
   "cell_type": "code",
   "execution_count": null,
   "metadata": {},
   "outputs": [],
   "source": []
  },
  {
   "cell_type": "code",
   "execution_count": null,
   "metadata": {},
   "outputs": [],
   "source": []
  }
 ],
 "metadata": {
  "anaconda-cloud": {},
  "kernelspec": {
   "display_name": "Python 3",
   "language": "python",
   "name": "python3"
  },
  "language_info": {
   "codemirror_mode": {
    "name": "ipython",
    "version": 3
   },
   "file_extension": ".py",
   "mimetype": "text/x-python",
   "name": "python",
   "nbconvert_exporter": "python",
   "pygments_lexer": "ipython3",
   "version": "3.7.3"
  }
 },
 "nbformat": 4,
 "nbformat_minor": 2
}
